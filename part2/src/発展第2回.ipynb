{
 "cells": [
  {
   "cell_type": "markdown",
   "metadata": {
    "id": "J4G3S5aQmrNB"
   },
   "source": [
    "ドライブのマウント"
   ]
  },
  {
   "cell_type": "code",
   "execution_count": 1,
   "metadata": {
    "colab": {
     "base_uri": "https://localhost:8080/"
    },
    "executionInfo": {
     "elapsed": 21739,
     "status": "ok",
     "timestamp": 1720593370830,
     "user": {
      "displayName": "Y Sahashi",
      "userId": "17147380326442764318"
     },
     "user_tz": -540
    },
    "id": "1vn1hBgbmePC",
    "outputId": "8a519a5e-5787-4198-9457-25e9f58300ea"
   },
   "outputs": [
    {
     "name": "stdout",
     "output_type": "stream",
     "text": [
      "Mounted at /content/drive\n"
     ]
    }
   ],
   "source": [
    "from google.colab import drive\n",
    "drive.mount('/content/drive')"
   ]
  },
  {
   "cell_type": "code",
   "execution_count": 2,
   "metadata": {
    "executionInfo": {
     "elapsed": 4,
     "status": "ok",
     "timestamp": 1720593370830,
     "user": {
      "displayName": "Y Sahashi",
      "userId": "17147380326442764318"
     },
     "user_tz": -540
    },
    "id": "GBmyTlBGoKI4"
   },
   "outputs": [],
   "source": [
    "!mkdir /content/data"
   ]
  },
  {
   "cell_type": "markdown",
   "metadata": {
    "id": "lWLE928Xmtvr"
   },
   "source": [
    "データの読み込み(修正しないように!!)"
   ]
  },
  {
   "cell_type": "code",
   "execution_count": 3,
   "metadata": {
    "colab": {
     "base_uri": "https://localhost:8080/"
    },
    "executionInfo": {
     "elapsed": 8946,
     "status": "ok",
     "timestamp": 1720593379774,
     "user": {
      "displayName": "Y Sahashi",
      "userId": "17147380326442764318"
     },
     "user_tz": -540
    },
    "id": "5cPMLdE9nyEN",
    "outputId": "5f7ad769-70f2-4fb9-83a1-7c2769affc18"
   },
   "outputs": [
    {
     "name": "stdout",
     "output_type": "stream",
     "text": [
      "Downloading http://yann.lecun.com/exdb/mnist/train-images-idx3-ubyte.gz\n",
      "Failed to download (trying next):\n",
      "HTTP Error 403: Forbidden\n",
      "\n",
      "Downloading https://ossci-datasets.s3.amazonaws.com/mnist/train-images-idx3-ubyte.gz\n",
      "Downloading https://ossci-datasets.s3.amazonaws.com/mnist/train-images-idx3-ubyte.gz to /content/data/MNIST/raw/train-images-idx3-ubyte.gz\n"
     ]
    },
    {
     "name": "stderr",
     "output_type": "stream",
     "text": [
      "100%|██████████| 9912422/9912422 [00:00<00:00, 58188131.99it/s]\n"
     ]
    },
    {
     "name": "stdout",
     "output_type": "stream",
     "text": [
      "Extracting /content/data/MNIST/raw/train-images-idx3-ubyte.gz to /content/data/MNIST/raw\n",
      "\n",
      "Downloading http://yann.lecun.com/exdb/mnist/train-labels-idx1-ubyte.gz\n",
      "Failed to download (trying next):\n",
      "HTTP Error 403: Forbidden\n",
      "\n",
      "Downloading https://ossci-datasets.s3.amazonaws.com/mnist/train-labels-idx1-ubyte.gz\n",
      "Downloading https://ossci-datasets.s3.amazonaws.com/mnist/train-labels-idx1-ubyte.gz to /content/data/MNIST/raw/train-labels-idx1-ubyte.gz\n"
     ]
    },
    {
     "name": "stderr",
     "output_type": "stream",
     "text": [
      "100%|██████████| 28881/28881 [00:00<00:00, 1733109.58it/s]\n"
     ]
    },
    {
     "name": "stdout",
     "output_type": "stream",
     "text": [
      "Extracting /content/data/MNIST/raw/train-labels-idx1-ubyte.gz to /content/data/MNIST/raw\n",
      "\n",
      "Downloading http://yann.lecun.com/exdb/mnist/t10k-images-idx3-ubyte.gz\n",
      "Failed to download (trying next):\n",
      "HTTP Error 403: Forbidden\n",
      "\n",
      "Downloading https://ossci-datasets.s3.amazonaws.com/mnist/t10k-images-idx3-ubyte.gz\n",
      "Downloading https://ossci-datasets.s3.amazonaws.com/mnist/t10k-images-idx3-ubyte.gz to /content/data/MNIST/raw/t10k-images-idx3-ubyte.gz\n"
     ]
    },
    {
     "name": "stderr",
     "output_type": "stream",
     "text": [
      "100%|██████████| 1648877/1648877 [00:00<00:00, 13699826.07it/s]\n"
     ]
    },
    {
     "name": "stdout",
     "output_type": "stream",
     "text": [
      "Extracting /content/data/MNIST/raw/t10k-images-idx3-ubyte.gz to /content/data/MNIST/raw\n",
      "\n",
      "Downloading http://yann.lecun.com/exdb/mnist/t10k-labels-idx1-ubyte.gz\n",
      "Failed to download (trying next):\n",
      "HTTP Error 403: Forbidden\n",
      "\n",
      "Downloading https://ossci-datasets.s3.amazonaws.com/mnist/t10k-labels-idx1-ubyte.gz\n",
      "Downloading https://ossci-datasets.s3.amazonaws.com/mnist/t10k-labels-idx1-ubyte.gz to /content/data/MNIST/raw/t10k-labels-idx1-ubyte.gz\n"
     ]
    },
    {
     "name": "stderr",
     "output_type": "stream",
     "text": [
      "100%|██████████| 4542/4542 [00:00<00:00, 5676558.04it/s]"
     ]
    },
    {
     "name": "stdout",
     "output_type": "stream",
     "text": [
      "Extracting /content/data/MNIST/raw/t10k-labels-idx1-ubyte.gz to /content/data/MNIST/raw\n",
      "\n"
     ]
    },
    {
     "name": "stderr",
     "output_type": "stream",
     "text": [
      "\n"
     ]
    }
   ],
   "source": [
    "import os\n",
    "import numpy as np\n",
    "from torchvision import datasets, transforms\n",
    "mnist_train = datasets.MNIST(\n",
    "    root='/content/data/',\n",
    "    download=True,\n",
    "    train=True,\n",
    "    transform=transforms.Compose([\n",
    "        transforms.ToTensor()\n",
    "    ])\n",
    ")\n",
    "mnist_test = datasets.MNIST(\n",
    "    root='/content/data/',\n",
    "    download=True,\n",
    "    train=False,\n",
    "    transform=transforms.Compose([\n",
    "        transforms.ToTensor()\n",
    "    ])\n",
    ")"
   ]
  },
  {
   "cell_type": "code",
   "execution_count": 4,
   "metadata": {
    "colab": {
     "base_uri": "https://localhost:8080/",
     "height": 259
    },
    "executionInfo": {
     "elapsed": 505,
     "status": "ok",
     "timestamp": 1720593380274,
     "user": {
      "displayName": "Y Sahashi",
      "userId": "17147380326442764318"
     },
     "user_tz": -540
    },
    "id": "gDbWnaNpiYgQ",
    "outputId": "88eb3f65-4ec2-47be-a6cc-188eee88c801"
   },
   "outputs": [
    {
     "data": {
      "image/png": "[encoded data removed]",
      "text/plain": [
       "<Figure size 1500x300 with 5 Axes>"
      ]
     },
     "metadata": {},
     "output_type": "display_data"
    }
   ],
   "source": [
    "import matplotlib.pyplot as plt\n",
    "\n",
    "# データの中身を確認する関数\n",
    "def show_mnist_data(dataset, num_samples=None):\n",
    "    fig, axes = plt.subplots(1, num_samples, figsize=(15, 3))\n",
    "    for i in range(num_samples):\n",
    "        image, label = dataset[i]\n",
    "        axes[i].imshow(image.squeeze(), cmap='gray')\n",
    "        axes[i].set_title(f'Label: {label}')\n",
    "        axes[i].axis('off')\n",
    "    plt.show()\n",
    "\n",
    "# 訓練データの先頭5件を確認\n",
    "show_mnist_data(mnist_train, num_samples=5)"
   ]
  },
  {
   "cell_type": "markdown",
   "metadata": {
    "id": "EdgyaTpeSdnl"
   },
   "source": [
    "## 練習課題\n",
    "1. モデル のseed 値・ハイパーパラメータを自分で設定して、実際にモデルの訓練・推論を行ってみよう。seed値・ハイパーパラメータを変更するとモデルの性能は変わるだろうか?\n",
    "2. モデル のアーキテクチャを変更して、推論精度を向上させてみよう。\n",
    "\n",
    " Hint: sigmoid 関数以外の活性化関数にはどのようなものがあるだろうか？\n",
    "中間層を追加すると、モデルの推論性能・学習にかかる時間はどのように変化するだろうか？\n"
   ]
  },
  {
   "cell_type": "code",
   "execution_count": 6,
   "metadata": {
    "colab": {
     "base_uri": "https://localhost:8080/"
    },
    "executionInfo": {
     "elapsed": 1006,
     "status": "ok",
     "timestamp": 1720593393710,
     "user": {
      "displayName": "Y Sahashi",
      "userId": "17147380326442764318"
     },
     "user_tz": -540
    },
    "id": "d8jeA3anmFvZ",
    "outputId": "770ba28e-7d59-4ac9-9d29-5b0578e93906"
   },
   "outputs": [
    {
     "name": "stderr",
     "output_type": "stream",
     "text": [
      "/usr/local/lib/python3.10/dist-packages/torchvision/datasets/mnist.py:76: UserWarning: train_data has been renamed data\n",
      "  warnings.warn(\"train_data has been renamed data\")\n",
      "/usr/local/lib/python3.10/dist-packages/torchvision/datasets/mnist.py:66: UserWarning: train_labels has been renamed targets\n",
      "  warnings.warn(\"train_labels has been renamed targets\")\n",
      "/usr/local/lib/python3.10/dist-packages/torchvision/datasets/mnist.py:81: UserWarning: test_data has been renamed data\n",
      "  warnings.warn(\"test_data has been renamed data\")\n",
      "/usr/local/lib/python3.10/dist-packages/torchvision/datasets/mnist.py:71: UserWarning: test_labels has been renamed targets\n",
      "  warnings.warn(\"test_labels has been renamed targets\")\n"
     ]
    }
   ],
   "source": [
    "import os\n",
    "import numpy as np\n",
    "import pandas as pd\n",
    "import torch\n",
    "import torch.nn as nn\n",
    "import torch.optim as optim\n",
    "import torch.autograd as autograd\n",
    "import inspect\n",
    "\n",
    "seed = 42\n",
    "torch.manual_seed(seed)\n",
    "np.random.seed(seed)\n",
    "\n",
    "device = torch.device(\"cuda\" if torch.cuda.is_available() else \"cpu\")\n",
    "\n",
    "# 学習データ\n",
    "x_train = mnist_train.train_data.numpy()\n",
    "t_train = mnist_train.train_labels.numpy()\n",
    "# テストデータ\n",
    "x_test = mnist_test.test_data.numpy()\n",
    "t_test = mnist_test.test_labels.numpy()\n",
    "\n",
    "class train_dataset(torch.utils.data.Dataset):\n",
    "    def __init__(self, x_train, t_train):\n",
    "        self.x_train = x_train.reshape(-1, 784).astype('float32') / 255 # MNIST は28*28=784ピクセルのデータ\n",
    "        self.t_train = t_train\n",
    "\n",
    "    def __len__(self):\n",
    "        return self.x_train.shape[0]\n",
    "\n",
    "    def __getitem__(self, idx):\n",
    "        return torch.tensor(self.x_train[idx], dtype=torch.float), torch.tensor(self.t_train[idx], dtype=torch.long)\n",
    "\n",
    "class test_dataset(torch.utils.data.Dataset):\n",
    "    def __init__(self, x_test):\n",
    "        self.x_test = x_test.reshape(-1, 784).astype('float32') / 255\n",
    "\n",
    "    def __len__(self):\n",
    "        return self.x_test.shape[0]\n",
    "\n",
    "    def __getitem__(self, idx):\n",
    "        return torch.tensor(self.x_test[idx], dtype=torch.float)\n",
    "\n",
    "trainval_data = train_dataset(x_train, t_train)\n",
    "test_data = test_dataset(x_test)"
   ]
  },
  {
   "cell_type": "markdown",
   "metadata": {
    "id": "TjKtpxdFpID6"
   },
   "source": [
    "ニューラルネットワークの実装"
   ]
  },
  {
   "cell_type": "code",
   "execution_count": 8,
   "metadata": {
    "executionInfo": {
     "elapsed": 352,
     "status": "ok",
     "timestamp": 1720593400945,
     "user": {
      "displayName": "Y Sahashi",
      "userId": "17147380326442764318"
     },
     "user_tz": -540
    },
    "id": "5y5apOJDpDRA"
   },
   "outputs": [],
   "source": [
    "batch_size = 100\n",
    "\n",
    "val_size = int(len(trainval_data) * 0.2)\n",
    "train_size = len(trainval_data) - val_size\n",
    "\n",
    "train_data, val_data = torch.utils.data.random_split(trainval_data, [train_size, val_size])\n",
    "\n",
    "dataloader_train = torch.utils.data.DataLoader(\n",
    "    train_data,\n",
    "    batch_size=batch_size,\n",
    "    shuffle=True\n",
    ")\n",
    "\n",
    "dataloader_valid = torch.utils.data.DataLoader(\n",
    "    val_data,\n",
    "    batch_size=batch_size,\n",
    "    shuffle=True\n",
    ")\n",
    "\n",
    "dataloader_test = torch.utils.data.DataLoader(\n",
    "    test_data,\n",
    "    batch_size=batch_size,\n",
    "    shuffle=False\n",
    ")"
   ]
  },
  {
   "cell_type": "code",
   "execution_count": 10,
   "metadata": {
    "executionInfo": {
     "elapsed": 634,
     "status": "ok",
     "timestamp": 1720593434982,
     "user": {
      "displayName": "Y Sahashi",
      "userId": "17147380326442764318"
     },
     "user_tz": -540
    },
    "id": "0m7mERQIpQQO"
   },
   "outputs": [],
   "source": [
    "# ToDo: sigmoid 関数以外の活性化関数を使ってモデルを作成してみる\n",
    "# ToDo: ハイパーパラメタを色々変えてみる\n",
    "\n",
    "def sigmoid(x):\n",
    "    # 単純な実装\n",
    "    # return 1 / (1 + torch.exp(-x))\n",
    "\n",
    "    # expのoverflow対策を施した実装\n",
    "    # x >=0 のとき sigmoid(x) = 1 / (1 + exp(-x))\n",
    "    # x < 0 のとき sigmoid(x) = exp(x) / (1 + exp(x))\n",
    "    return torch.exp(torch.minimum(x, torch.tensor(0.0))) / (1 + torch.exp(- torch.abs(x)))\n",
    "\n",
    "def softmax(x):\n",
    "    x_exp = torch.exp(x - x.max(dim=1, keepdim=True).values)\n",
    "    return x_exp / x_exp.sum(dim=1, keepdim=True)\n",
    "\n",
    "class Dense(nn.Module):  # nn.Moduleを継承\n",
    "    def __init__(self, in_dim, out_dim, function=lambda x: x):\n",
    "        super(Dense, self).__init__()\n",
    "        # Xavier初期化\n",
    "        self.W = nn.Parameter(torch.randn(in_dim, out_dim) * np.sqrt(2. / (in_dim + out_dim)))\n",
    "        self.b = nn.Parameter(torch.zeros(out_dim))\n",
    "        self.function = function\n",
    "\n",
    "    def forward(self, x):\n",
    "        return self.function(torch.matmul(x, self.W) + self.b)\n",
    "\n",
    "class MLP(nn.Module):  # nn.Moduleを継承\n",
    "    def __init__(self, in_dim, hid_dim1, hid_dim2, out_dim):\n",
    "        super(MLP, self).__init__()\n",
    "        self.linear1 = Dense(in_dim, hid_dim1, function=sigmoid)\n",
    "        self.linear2 = Dense(hid_dim1, hid_dim2, function=sigmoid)\n",
    "        self.linear3 = Dense(hid_dim2, out_dim, function=softmax)\n",
    "\n",
    "    def forward(self, x):\n",
    "        x = self.linear1(x)\n",
    "        x = self.linear2(x)\n",
    "        x = self.linear3(x)\n",
    "        return x\n",
    "\n",
    "# ハイパーパラメータの設定\n",
    "in_dim = 784 # 28*28\n",
    "hid_dim1 = 28\n",
    "hid_dim2 = 28\n",
    "out_dim = 10 # 0~9\n",
    "lr = 0.01\n",
    "n_epochs = 3  # エポック数\n",
    "\n",
    "# モデルのインスタンス化\n",
    "mlp = MLP(in_dim, hid_dim1, hid_dim2, out_dim).to(device)\n",
    "\n",
    "optimizer = optim.Adam(mlp.parameters(), lr=lr)"
   ]
  },
  {
   "cell_type": "code",
   "execution_count": 11,
   "metadata": {
    "colab": {
     "base_uri": "https://localhost:8080/"
    },
    "executionInfo": {
     "elapsed": 12889,
     "status": "ok",
     "timestamp": 1720593447868,
     "user": {
      "displayName": "Y Sahashi",
      "userId": "17147380326442764318"
     },
     "user_tz": -540
    },
    "id": "F1CidsMf-Z2e",
    "outputId": "08af233c-f90e-4dd2-9c42-51894b773b5e"
   },
   "outputs": [
    {
     "name": "stdout",
     "output_type": "stream",
     "text": [
      "EPOCH: 0, Train [Loss: 1.719, Accuracy: 0.762], Valid [Loss: 1.559, Accuracy: 0.911]\n",
      "EPOCH: 1, Train [Loss: 1.538, Accuracy: 0.929], Valid [Loss: 1.534, Accuracy: 0.931]\n",
      "EPOCH: 2, Train [Loss: 1.523, Accuracy: 0.941], Valid [Loss: 1.527, Accuracy: 0.937]\n"
     ]
    }
   ],
   "source": [
    "for epoch in range(n_epochs):\n",
    "    losses_train = []\n",
    "    losses_valid = []\n",
    "    train_num = 0\n",
    "    train_true_num = 0\n",
    "    valid_num = 0\n",
    "    valid_true_num = 0\n",
    "\n",
    "    mlp.train()  # 訓練時には勾配を計算するtrainモードにする\n",
    "    for x, t in dataloader_train:\n",
    "        x, t = x.to(device), t.to(device)\n",
    "        optimizer.zero_grad()  # 勾配を0で初期化\n",
    "        pred = mlp(x)  # モデルで予測\n",
    "        loss = nn.CrossEntropyLoss()(pred, t)  # 損失を計算\n",
    "        loss.backward()  # 勾配を計算\n",
    "        optimizer.step()  # パラメータを更新\n",
    "\n",
    "        losses_train.append(loss.item())\n",
    "\n",
    "        # あとでまとめてacc計算\n",
    "        acc = torch.where(t == pred.argmax(1), torch.ones_like(t), torch.zeros_like(t)) #例えば、tが[2, 0, 1]で、pred.argmax(1)が[2, 1, 1]の場合、t == pred.argmax(1)は[True, False, True]\n",
    "        train_num += t.size(0)\n",
    "        train_true_num += acc.sum().item()\n",
    "\n",
    "    mlp.eval()  # 評価時には勾配を計算しないevalモードにする\n",
    "    for x, t in dataloader_valid:\n",
    "        x, t = x.to(device), t.to(device)\n",
    "        with torch.no_grad():  # 勾配計算を無効化\n",
    "            pred = mlp(x)\n",
    "            loss = nn.CrossEntropyLoss()(pred, t)\n",
    "\n",
    "        losses_valid.append(loss.item())\n",
    "\n",
    "        acc = torch.where(t == pred.argmax(1), torch.ones_like(t), torch.zeros_like(t))\n",
    "        valid_num += t.size(0)\n",
    "        valid_true_num += acc.sum().item()\n",
    "\n",
    "    print('EPOCH: {}, Train [Loss: {:.3f}, Accuracy: {:.3f}], Valid [Loss: {:.3f}, Accuracy: {:.3f}]'.format(\n",
    "        epoch,\n",
    "        np.mean(losses_train),\n",
    "        train_true_num/train_num,\n",
    "        np.mean(losses_valid),\n",
    "        valid_true_num/valid_num\n",
    "    ))"
   ]
  },
  {
   "cell_type": "markdown",
   "metadata": {
    "id": "WtDpX1rfp8Z9"
   },
   "source": [
    "テストデータに対する推論"
   ]
  },
  {
   "cell_type": "code",
   "execution_count": 12,
   "metadata": {
    "executionInfo": {
     "elapsed": 16,
     "status": "ok",
     "timestamp": 1720593447868,
     "user": {
      "displayName": "Y Sahashi",
      "userId": "17147380326442764318"
     },
     "user_tz": -540
    },
    "id": "wyMCiiKaq5vz"
   },
   "outputs": [],
   "source": [
    "!mkdir /content/results"
   ]
  },
  {
   "cell_type": "code",
   "execution_count": 13,
   "metadata": {
    "colab": {
     "base_uri": "https://localhost:8080/"
    },
    "executionInfo": {
     "elapsed": 453,
     "status": "ok",
     "timestamp": 1720593448319,
     "user": {
      "displayName": "Y Sahashi",
      "userId": "17147380326442764318"
     },
     "user_tz": -540
    },
    "id": "fCKu8ZiUp-_7",
    "outputId": "ca8061c6-0738-409f-fd9c-2cd64904e405"
   },
   "outputs": [
    {
     "name": "stdout",
     "output_type": "stream",
     "text": [
      "Test Accuracy: 0.938\n"
     ]
    }
   ],
   "source": [
    "mlp.eval()\n",
    "\n",
    "t_pred = []\n",
    "for x in dataloader_test:\n",
    "    x = x.to(device)\n",
    "    # 順伝播\n",
    "    y = mlp.forward(x)\n",
    "    # モデルの出力を予測値のスカラーに変換\n",
    "    pred = y.argmax(1).tolist()\n",
    "    t_pred.extend(pred)\n",
    "\n",
    "# 予測精度の計算\n",
    "t_test_tensor = torch.tensor(t_test, dtype=torch.long).to(device)\n",
    "t_pred_tensor = torch.tensor(t_pred, dtype=torch.long).to(device)\n",
    "accuracy = (t_test_tensor == t_pred_tensor).sum().item() / len(t_test_tensor)\n",
    "\n",
    "# true_label と predicted_label を保存\n",
    "true_label = t_test_tensor.cpu().numpy()\n",
    "predicted_label = t_pred_tensor.cpu().numpy()\n",
    "\n",
    "# CSVファイルに保存\n",
    "submission_df = pd.DataFrame({\n",
    "    'true_label': true_label,\n",
    "    'predicted_label': predicted_label\n",
    "})\n",
    "submission_df.to_csv('/content/results/results_pred.csv', index_label='id')\n",
    "\n",
    "print(f'Test Accuracy: {accuracy:.3f}')"
   ]
  }
 ],
 "metadata": {
  "accelerator": "GPU",
  "colab": {
   "gpuType": "T4",
   "provenance": []
  },
  "kernelspec": {
   "display_name": "Python 3",
   "name": "python3"
  },
  "language_info": {
   "name": "python"
  }
 },
 "nbformat": 4,
 "nbformat_minor": 0
}
